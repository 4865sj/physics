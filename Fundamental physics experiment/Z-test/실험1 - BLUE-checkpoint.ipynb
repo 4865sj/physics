{
 "cells": [
  {
   "cell_type": "code",
   "execution_count": 12,
   "id": "3ab264e1",
   "metadata": {},
   "outputs": [],
   "source": [
    "import pandas as pd\n",
    "import matplotlib.pyplot as plt\n",
    "import numpy as np"
   ]
  },
  {
   "cell_type": "code",
   "execution_count": 13,
   "id": "195b152d",
   "metadata": {},
   "outputs": [],
   "source": [
    "red = pd.DataFrame([[-5, -0.00213, -0.00219], \n",
    "                   [-4, -0.00171, -0.00175], \n",
    "                   [-3, -0.00129, -0.00133], \n",
    "                   [-2, -0.00089, -0.00090], \n",
    "                   [-1, -0.00044, -0.00045], \n",
    "                   [0, 0, 0],\n",
    "                   [1, 0.00047, 0.00040],\n",
    "                   [2, 0.00084, 0.00084],\n",
    "                   [3, 0.00129, 0.00130],\n",
    "                   [4, 0.00165, 0.00168],\n",
    "                   [5, 0.00212, 0.00219]], columns = ['m', '50 slits/mm', '100 slits/mm'])"
   ]
  },
  {
   "cell_type": "code",
   "execution_count": 14,
   "id": "e8cb1b97",
   "metadata": {},
   "outputs": [],
   "source": [
    "data_blue = []"
   ]
  },
  {
   "cell_type": "code",
   "execution_count": 15,
   "id": "6325a62f",
   "metadata": {},
   "outputs": [
    {
     "data": {
      "text/plain": [
       "[426.0,\n",
       " 438.0,\n",
       " 427.5,\n",
       " 437.5,\n",
       " 430.0,\n",
       " 443.3333333333333,\n",
       " 445.0,\n",
       " 450.0,\n",
       " 440.0,\n",
       " 450.0,\n",
       " 470.0,\n",
       " 400.0,\n",
       " 420.0,\n",
       " 420.0,\n",
       " 430.0,\n",
       " 433.3333333333333,\n",
       " 412.5,\n",
       " 420.0,\n",
       " 424.0,\n",
       " 438.0]"
      ]
     },
     "execution_count": 15,
     "metadata": {},
     "output_type": "execute_result"
    }
   ],
   "source": [
    "for i in range(0, 11):\n",
    "    if blue['m'][i] == 0:\n",
    "        pass\n",
    "    else:\n",
    "        data_blue.append((blue['50 slits/mm'][i]/blue['m'][i])*(10**6))\n",
    "        data_blue.append((blue['100 slits/mm'][i]/blue['m'][i])*(10**6))\n",
    "data_blue\n"
   ]
  },
  {
   "cell_type": "code",
   "execution_count": 16,
   "id": "620cbef6",
   "metadata": {},
   "outputs": [
    {
     "name": "stderr",
     "output_type": "stream",
     "text": [
      "No handles with labels found to put in legend.\n"
     ]
    },
    {
     "data": {
      "image/png": "[encoded data removed]",
      "text/plain": [
       "<Figure size 432x288 with 1 Axes>"
      ]
     },
     "metadata": {
      "needs_background": "light"
     },
     "output_type": "display_data"
    }
   ],
   "source": [
    "plt.hist(data_red, bins = 6)\n",
    "plt.legend()\n",
    "plt.show()"
   ]
  },
  {
   "cell_type": "code",
   "execution_count": 23,
   "id": "d3067519",
   "metadata": {},
   "outputs": [
    {
     "data": {
      "text/plain": [
       "432.7583333333333"
      ]
     },
     "execution_count": 23,
     "metadata": {},
     "output_type": "execute_result"
    }
   ],
   "source": [
    "#표본정보\n",
    "x = np.mean(data_blue)\n",
    "s = np.std(data_blue)\n",
    "n = 20\n",
    "se = s/np.sqrt(n)\n",
    "x"
   ]
  },
  {
   "cell_type": "code",
   "execution_count": 18,
   "id": "baf1dd67",
   "metadata": {},
   "outputs": [],
   "source": [
    "#t test\n",
    "df = n - 1\n",
    "a = 0.05\n",
    "t = 1.729"
   ]
  },
  {
   "cell_type": "code",
   "execution_count": 19,
   "id": "909ffe21",
   "metadata": {},
   "outputs": [
    {
     "name": "stdout",
     "output_type": "stream",
     "text": [
      "유의수준 95% 하에서 귀무가설 채택\n"
     ]
    }
   ],
   "source": [
    "#From 메뉴얼\n",
    "#왼쪽 단측검정\n",
    "#귀무가설 : 평균 < 450 nm\n",
    "#대립가설 : 평균 >= 450 nm \n",
    "m1 = 450\n",
    "d1 = x-m1\n",
    "t1 = d1/se\n",
    "if t1 >= t:\n",
    "    print('유의수준 95% 하에서 귀무가설 기각')\n",
    "else:\n",
    "    print('유의수준 95% 하에서 귀무가설 채택')\n",
    "    "
   ]
  },
  {
   "cell_type": "code",
   "execution_count": 20,
   "id": "92a40baa",
   "metadata": {},
   "outputs": [
    {
     "name": "stdout",
     "output_type": "stream",
     "text": [
      "유의수준 95% 하에서 귀무가설 기각\n"
     ]
    }
   ],
   "source": [
    "#From 메뉴얼\n",
    "#오른쪽 단측검정\n",
    "#귀무가설 : 평균 > 488 nm\n",
    "#대립가설 : 평균 <= 488 nm\n",
    "m2 = 488\n",
    "d2 = x-m2\n",
    "t2 = d2/se\n",
    "if t2 <= -t:\n",
    "    print('유의수준 95% 하에서 귀무가설 기각')\n",
    "else:\n",
    "    print('유의수준 95% 하에서 귀무가설 채택')"
   ]
  },
  {
   "cell_type": "code",
   "execution_count": 21,
   "id": "1a86e8f7",
   "metadata": {},
   "outputs": [
    {
     "name": "stdout",
     "output_type": "stream",
     "text": [
      "유의수준 95% 하에서 귀무가설 채택\n"
     ]
    }
   ],
   "source": [
    "#From 구글\n",
    "#왼쪽 단측검정\n",
    "#귀무가설 : 평균 < 450 nm\n",
    "#대립가설 : 평균 >= 450 nm \n",
    "m1 = 450\n",
    "d1 = x-m1\n",
    "t1 = d1/se\n",
    "if t1 >= t:\n",
    "    print('유의수준 95% 하에서 귀무가설 기각')\n",
    "else:\n",
    "    print('유의수준 95% 하에서 귀무가설 채택')\n",
    "    "
   ]
  },
  {
   "cell_type": "code",
   "execution_count": 22,
   "id": "fddf7d76",
   "metadata": {},
   "outputs": [
    {
     "name": "stdout",
     "output_type": "stream",
     "text": [
      "유의수준 95% 하에서 귀무가설 기각\n"
     ]
    }
   ],
   "source": [
    "#From 구글\n",
    "#오른쪽 단측검정\n",
    "#귀무가설 : 평균 > 485 nm\n",
    "#대립가설 : 평균 <= 485 nm\n",
    "m2 = 485\n",
    "d2 = x-m2\n",
    "t2 = d2/se\n",
    "if t2 <= -t:\n",
    "    print('유의수준 95% 하에서 귀무가설 기각')\n",
    "else:\n",
    "    print('유의수준 95% 하에서 귀무가설 채택')"
   ]
  },
  {
   "cell_type": "code",
   "execution_count": 24,
   "id": "c0db414c",
   "metadata": {},
   "outputs": [
    {
     "name": "stdout",
     "output_type": "stream",
     "text": [
      "유의수준 95% 하에서 귀무가설 기각\n"
     ]
    }
   ],
   "source": [
    "#From 구글\n",
    "#violet\n",
    "#왼쪽 단측검정\n",
    "#귀무가설 : 평균 < 380 nm\n",
    "#대립가설 : 평균 >= 380 nm \n",
    "m1 = 380\n",
    "d1 = x-m1\n",
    "t1 = d1/se\n",
    "if t1 >= t:\n",
    "    print('유의수준 95% 하에서 귀무가설 기각')\n",
    "else:\n",
    "    print('유의수준 95% 하에서 귀무가설 채택')\n",
    "    "
   ]
  },
  {
   "cell_type": "code",
   "execution_count": 25,
   "id": "9c11bebd",
   "metadata": {},
   "outputs": [
    {
     "name": "stdout",
     "output_type": "stream",
     "text": [
      "유의수준 95% 하에서 귀무가설 기각\n"
     ]
    }
   ],
   "source": [
    "#From 구글\n",
    "#violet\n",
    "#오른쪽 단측검정\n",
    "#귀무가설 : 평균 > 450 nm\n",
    "#대립가설 : 평균 <= 450 nm\n",
    "m2 = 450\n",
    "d2 = x-m2\n",
    "t2 = d2/se\n",
    "if t2 <= -t:\n",
    "    print('유의수준 95% 하에서 귀무가설 기각')\n",
    "else:\n",
    "    print('유의수준 95% 하에서 귀무가설 채택')"
   ]
  },
  {
   "cell_type": "code",
   "execution_count": null,
   "id": "b00ee71e",
   "metadata": {},
   "outputs": [],
   "source": []
  },
  {
   "cell_type": "code",
   "execution_count": null,
   "id": "c616d4f2",
   "metadata": {},
   "outputs": [],
   "source": []
  }
 ],
 "metadata": {
  "kernelspec": {
   "display_name": "Python 3",
   "language": "python",
   "name": "python3"
  },
  "language_info": {
   "codemirror_mode": {
    "name": "ipython",
    "version": 3
   },
   "file_extension": ".py",
   "mimetype": "text/x-python",
   "name": "python",
   "nbconvert_exporter": "python",
   "pygments_lexer": "ipython3",
   "version": "3.8.8"
  }
 },
 "nbformat": 4,
 "nbformat_minor": 5
}

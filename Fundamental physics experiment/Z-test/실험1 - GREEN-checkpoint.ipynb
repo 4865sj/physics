{
 "cells": [
  {
   "cell_type": "code",
   "execution_count": 22,
   "id": "3ab264e1",
   "metadata": {},
   "outputs": [],
   "source": [
    "import pandas as pd\n",
    "import matplotlib.pyplot as plt\n",
    "import numpy as np"
   ]
  },
  {
   "cell_type": "code",
   "execution_count": 23,
   "id": "195b152d",
   "metadata": {},
   "outputs": [],
   "source": [
    "red = pd.DataFrame([[-5, -0.00286, -0.00274], \n",
    "                   [-4, -0.00227, -0.00219], \n",
    "                   [-3, -0.00170, -0.00159], \n",
    "                   [-2, -0.00108, -0.00108], \n",
    "                   [-1, -0.00053, -0.00056], \n",
    "                   [0, 0, 0],\n",
    "                   [1, 0.00050, 0.00050],\n",
    "                   [2, 0.00102, 0.00101],\n",
    "                   [3, 0.00169, 0.00154],\n",
    "                   [4, 0.00223, 0.00213],\n",
    "                   [5, 0.0023, 0.00273]], columns = ['m', '50 slits/mm', '100 slits/mm'])"
   ]
  },
  {
   "cell_type": "code",
   "execution_count": 24,
   "id": "e8cb1b97",
   "metadata": {},
   "outputs": [],
   "source": [
    "data_red = []"
   ]
  },
  {
   "cell_type": "code",
   "execution_count": 25,
   "id": "6325a62f",
   "metadata": {},
   "outputs": [
    {
     "data": {
      "text/plain": [
       "[572.0,\n",
       " 548.0,\n",
       " 567.5,\n",
       " 547.5,\n",
       " 566.6666666666666,\n",
       " 530.0,\n",
       " 540.0,\n",
       " 540.0,\n",
       " 530.0,\n",
       " 560.0,\n",
       " 500.0,\n",
       " 500.0,\n",
       " 510.00000000000006,\n",
       " 505.0,\n",
       " 563.3333333333334,\n",
       " 513.3333333333333,\n",
       " 557.5,\n",
       " 532.5,\n",
       " 460.0,\n",
       " 545.9999999999999]"
      ]
     },
     "execution_count": 25,
     "metadata": {},
     "output_type": "execute_result"
    }
   ],
   "source": [
    "for i in range(0, 11):\n",
    "    if red['m'][i] == 0:\n",
    "        pass\n",
    "    else:\n",
    "        data_red.append((red['50 slits/mm'][i]/red['m'][i])*(10**6))\n",
    "        data_red.append((red['100 slits/mm'][i]/red['m'][i])*(10**6))\n",
    "data_red\n"
   ]
  },
  {
   "cell_type": "code",
   "execution_count": 26,
   "id": "620cbef6",
   "metadata": {},
   "outputs": [
    {
     "name": "stderr",
     "output_type": "stream",
     "text": [
      "No handles with labels found to put in legend.\n"
     ]
    },
    {
     "data": {
      "image/png": "[encoded data removed]",
      "text/plain": [
       "<Figure size 432x288 with 1 Axes>"
      ]
     },
     "metadata": {
      "needs_background": "light"
     },
     "output_type": "display_data"
    }
   ],
   "source": [
    "plt.hist(data_red, bins = 6)\n",
    "plt.legend()\n",
    "plt.show()"
   ]
  },
  {
   "cell_type": "code",
   "execution_count": 27,
   "id": "d3067519",
   "metadata": {},
   "outputs": [],
   "source": [
    "#표본정보\n",
    "x = np.mean(data_red)\n",
    "s = np.std(data_red)\n",
    "n = 20\n",
    "se = s/np.sqrt(n)"
   ]
  },
  {
   "cell_type": "code",
   "execution_count": 28,
   "id": "baf1dd67",
   "metadata": {},
   "outputs": [],
   "source": [
    "#t test\n",
    "df = n - 1\n",
    "a = 0.05\n",
    "t = 1.729"
   ]
  },
  {
   "cell_type": "code",
   "execution_count": 29,
   "id": "909ffe21",
   "metadata": {},
   "outputs": [
    {
     "name": "stdout",
     "output_type": "stream",
     "text": [
      "유의수준 95% 하에서 귀무가설 기각\n"
     ]
    }
   ],
   "source": [
    "#From 메뉴얼\n",
    "#왼쪽 단측검정\n",
    "#귀무가설 : 평균 < 515 nm\n",
    "#대립가설 : 평균 >= 515 nm \n",
    "m1 = 515\n",
    "d1 = x-m1\n",
    "t1 = d1/se\n",
    "if t1 >= t:\n",
    "    print('유의수준 95% 하에서 귀무가설 기각')\n",
    "else:\n",
    "    print('유의수준 95% 하에서 귀무가설 채택')\n",
    "    "
   ]
  },
  {
   "cell_type": "code",
   "execution_count": 30,
   "id": "92a40baa",
   "metadata": {},
   "outputs": [
    {
     "name": "stdout",
     "output_type": "stream",
     "text": [
      "유의수준 95% 하에서 귀무가설 채택\n"
     ]
    }
   ],
   "source": [
    "#From 메뉴얼\n",
    "#오른쪽 단측검정\n",
    "#귀무가설 : 평균 > 532 nm\n",
    "#대립가설 : 평균 <= 532 nm\n",
    "m2 = 532\n",
    "d2 = x-m2\n",
    "t2 = d2/se\n",
    "if t2 <= -t:\n",
    "    print('유의수준 95% 하에서 귀무가설 기각')\n",
    "else:\n",
    "    print('유의수준 95% 하에서 귀무가설 채택')"
   ]
  },
  {
   "cell_type": "code",
   "execution_count": 31,
   "id": "1a86e8f7",
   "metadata": {},
   "outputs": [
    {
     "name": "stdout",
     "output_type": "stream",
     "text": [
      "유의수준 95% 하에서 귀무가설 기각\n"
     ]
    }
   ],
   "source": [
    "#From 구글\n",
    "#왼쪽 단측검정\n",
    "#귀무가설 : 평균 < 500 nm\n",
    "#대립가설 : 평균 >= 500 nm \n",
    "m1 = 500\n",
    "d1 = x-m1\n",
    "t1 = d1/se\n",
    "if t1 >= t:\n",
    "    print('유의수준 95% 하에서 귀무가설 기각')\n",
    "else:\n",
    "    print('유의수준 95% 하에서 귀무가설 채택')\n",
    "    "
   ]
  },
  {
   "cell_type": "code",
   "execution_count": 32,
   "id": "fddf7d76",
   "metadata": {},
   "outputs": [
    {
     "name": "stdout",
     "output_type": "stream",
     "text": [
      "유의수준 95% 하에서 귀무가설 기각\n"
     ]
    }
   ],
   "source": [
    "#From 구글\n",
    "#오른쪽 단측검정\n",
    "#귀무가설 : 평균 > 565 nm\n",
    "#대립가설 : 평균 <= 565 nm\n",
    "m2 = 565\n",
    "d2 = x-m2\n",
    "t2 = d2/se\n",
    "if t2 <= -t:\n",
    "    print('유의수준 95% 하에서 귀무가설 기각')\n",
    "else:\n",
    "    print('유의수준 95% 하에서 귀무가설 채택')"
   ]
  },
  {
   "cell_type": "code",
   "execution_count": null,
   "id": "c0db414c",
   "metadata": {},
   "outputs": [],
   "source": []
  },
  {
   "cell_type": "code",
   "execution_count": null,
   "id": "9c11bebd",
   "metadata": {},
   "outputs": [],
   "source": []
  },
  {
   "cell_type": "code",
   "execution_count": null,
   "id": "b00ee71e",
   "metadata": {},
   "outputs": [],
   "source": []
  },
  {
   "cell_type": "code",
   "execution_count": null,
   "id": "c616d4f2",
   "metadata": {},
   "outputs": [],
   "source": []
  }
 ],
 "metadata": {
  "kernelspec": {
   "display_name": "Python 3",
   "language": "python",
   "name": "python3"
  },
  "language_info": {
   "codemirror_mode": {
    "name": "ipython",
    "version": 3
   },
   "file_extension": ".py",
   "mimetype": "text/x-python",
   "name": "python",
   "nbconvert_exporter": "python",
   "pygments_lexer": "ipython3",
   "version": "3.8.8"
  }
 },
 "nbformat": 4,
 "nbformat_minor": 5
}

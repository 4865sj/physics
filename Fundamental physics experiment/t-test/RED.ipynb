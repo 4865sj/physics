{
 "cells": [
  {
   "cell_type": "code",
   "execution_count": 30,
   "id": "3ab264e1",
   "metadata": {},
   "outputs": [],
   "source": [
    "import pandas as pd\n",
    "import matplotlib.pyplot as plt\n",
    "import numpy as np"
   ]
  },
  {
   "cell_type": "code",
   "execution_count": 5,
   "id": "195b152d",
   "metadata": {},
   "outputs": [],
   "source": [
    "red = pd.DataFrame([[-5, -0.0033, -0.00339], \n",
    "                   [-4, -0.00259, -0.00267], \n",
    "                   [-3, -0.00191, -0.00195], \n",
    "                   [-2, -0.00127, -0.00126], \n",
    "                   [-1, -0.00059, -0.00062], \n",
    "                   [0, 0, 0],\n",
    "                   [1, 0.00071, 0.00062],\n",
    "                   [2, 0.00136, 0.00125],\n",
    "                   [3, 0.00195, 0.00188],\n",
    "                   [4, 0.00270, 0.00252],\n",
    "                   [5, 0.00329, 0.0032]], columns = ['m', '50 slits/mm', '100 slits/mm'])"
   ]
  },
  {
   "cell_type": "code",
   "execution_count": 34,
   "id": "e8cb1b97",
   "metadata": {},
   "outputs": [],
   "source": [
    "data_red = []"
   ]
  },
  {
   "cell_type": "code",
   "execution_count": 35,
   "id": "6325a62f",
   "metadata": {},
   "outputs": [
    {
     "data": {
      "text/plain": [
       "[660.0,\n",
       " 678.0,\n",
       " 647.5,\n",
       " 667.5,\n",
       " 636.6666666666666,\n",
       " 650.0,\n",
       " 635.0,\n",
       " 630.0,\n",
       " 590.0,\n",
       " 620.0,\n",
       " 710.0,\n",
       " 620.0,\n",
       " 680.0,\n",
       " 625.0,\n",
       " 650.0,\n",
       " 626.6666666666666,\n",
       " 675.0,\n",
       " 630.0,\n",
       " 658.0,\n",
       " 640.0]"
      ]
     },
     "execution_count": 35,
     "metadata": {},
     "output_type": "execute_result"
    }
   ],
   "source": [
    "for i in range(0, 11):\n",
    "    if red['m'][i] == 0:\n",
    "        pass\n",
    "    else:\n",
    "        data_red.append((red['50 slits/mm'][i]/red['m'][i])*(10**6))\n",
    "        data_red.append((red['100 slits/mm'][i]/red['m'][i])*(10**6))\n",
    "data_red\n"
   ]
  },
  {
   "cell_type": "code",
   "execution_count": 36,
   "id": "620cbef6",
   "metadata": {},
   "outputs": [
    {
     "name": "stderr",
     "output_type": "stream",
     "text": [
      "No handles with labels found to put in legend.\n"
     ]
    },
    {
     "data": {
      "image/png": "[encoded data removed]",
      "text/plain": [
       "<Figure size 432x288 with 1 Axes>"
      ]
     },
     "metadata": {
      "needs_background": "light"
     },
     "output_type": "display_data"
    }
   ],
   "source": [
    "plt.hist(data_red, bins = 6)\n",
    "plt.legend()\n",
    "plt.show()"
   ]
  },
  {
   "cell_type": "code",
   "execution_count": 74,
   "id": "d3067519",
   "metadata": {},
   "outputs": [
    {
     "data": {
      "text/plain": [
       "646.4666666666666"
      ]
     },
     "execution_count": 74,
     "metadata": {},
     "output_type": "execute_result"
    }
   ],
   "source": [
    "#표본정보\n",
    "x = np.mean(data_red)\n",
    "s = np.std(data_red)\n",
    "n = 20\n",
    "se = s/np.sqrt(n)\n",
    "x"
   ]
  },
  {
   "cell_type": "code",
   "execution_count": 80,
   "id": "baf1dd67",
   "metadata": {},
   "outputs": [],
   "source": [
    "#t test\n",
    "df = n - 1\n",
    "a = 0.05\n",
    "t = 1.729"
   ]
  },
  {
   "cell_type": "code",
   "execution_count": 81,
   "id": "909ffe21",
   "metadata": {},
   "outputs": [
    {
     "name": "stdout",
     "output_type": "stream",
     "text": [
      "유의수준 95% 하에서 귀무가설 채택\n"
     ]
    }
   ],
   "source": [
    "#From 메뉴얼\n",
    "#왼쪽 단측검정\n",
    "#귀무가설 : 평균 < 638 nm\n",
    "#대립가설 : 평균 >= 638 nm \n",
    "m1 = 638\n",
    "d1 = x-m1\n",
    "t1 = d1/se\n",
    "if t1 >= t:\n",
    "    print('유의수준 95% 하에서 귀무가설 기각')\n",
    "else:\n",
    "    print('유의수준 95% 하에서 귀무가설 채택')"
   ]
  },
  {
   "cell_type": "code",
   "execution_count": 82,
   "id": "92a40baa",
   "metadata": {},
   "outputs": [
    {
     "name": "stdout",
     "output_type": "stream",
     "text": [
      "유의수준 95% 하에서 귀무가설 기각\n"
     ]
    }
   ],
   "source": [
    "#From 메뉴얼\n",
    "#오른쪽 단측검정\n",
    "#귀무가설 : 평균 > 670 nm\n",
    "#대립가설 : 평균 <= 670 nm\n",
    "m2 = 670\n",
    "d2 = x-m2\n",
    "t2 = d2/se\n",
    "if t2 <= -t:\n",
    "    print('유의수준 95% 하에서 귀무가설 기각')\n",
    "else:\n",
    "    print('유의수준 95% 하에서 귀무가설 채택')"
   ]
  },
  {
   "cell_type": "code",
   "execution_count": 83,
   "id": "1a86e8f7",
   "metadata": {},
   "outputs": [
    {
     "name": "stdout",
     "output_type": "stream",
     "text": [
      "유의수준 95% 하에서 귀무가설 기각\n"
     ]
    }
   ],
   "source": [
    "#From 구글\n",
    "#왼쪽 단측검정\n",
    "#귀무가설 : 평균 < 625 nm\n",
    "#대립가설 : 평균 >= 625 nm \n",
    "m1 = 625\n",
    "d1 = x-m1\n",
    "t1 = d1/se\n",
    "if t1 >= t:\n",
    "    print('유의수준 95% 하에서 귀무가설 기각')\n",
    "else:\n",
    "    print('유의수준 95% 하에서 귀무가설 채택')"
   ]
  },
  {
   "cell_type": "code",
   "execution_count": 84,
   "id": "dcf336b5",
   "metadata": {},
   "outputs": [
    {
     "name": "stdout",
     "output_type": "stream",
     "text": [
      "유의수준 95% 하에서 귀무가설 기각\n"
     ]
    }
   ],
   "source": [
    "#From 구글\n",
    "#오른쪽 단측검정\n",
    "#귀무가설 : 평균 > 750 nm\n",
    "#대립가설 : 평균 <= 750 nm\n",
    "m2 = 670\n",
    "d2 = x-m2\n",
    "t2 = d2/se\n",
    "if t2 <= -t:\n",
    "    print('유의수준 95% 하에서 귀무가설 기각')\n",
    "else:\n",
    "    print('유의수준 95% 하에서 귀무가설 채택')"
   ]
  },
  {
   "cell_type": "code",
   "execution_count": null,
   "id": "4c2c3005",
   "metadata": {},
   "outputs": [],
   "source": []
  }
 ],
 "metadata": {
  "kernelspec": {
   "display_name": "Python 3",
   "language": "python",
   "name": "python3"
  },
  "language_info": {
   "codemirror_mode": {
    "name": "ipython",
    "version": 3
   },
   "file_extension": ".py",
   "mimetype": "text/x-python",
   "name": "python",
   "nbconvert_exporter": "python",
   "pygments_lexer": "ipython3",
   "version": "3.8.8"
  }
 },
 "nbformat": 4,
 "nbformat_minor": 5
}
